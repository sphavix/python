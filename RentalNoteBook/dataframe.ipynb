{
    "metadata": {
        "kernelspec": {
            "name": "python3",
            "display_name": "Python 3 (ipykernel)",
            "language": "python"
        },
        "language_info": {
            "name": "python",
            "version": "3.8.10",
            "mimetype": "text/x-python",
            "codemirror_mode": {
                "name": "ipython",
                "version": 3
            },
            "pygments_lexer": "ipython3",
            "nbconvert_exporter": "python",
            "file_extension": ".py"
        }
    },
    "nbformat_minor": 2,
    "nbformat": 4,
    "cells": [
        {
            "cell_type": "code",
            "source": [
                "import pyodbc\r\n",
                "import pandas\r\n",
                "from sklearn.linear_model import LinearRegression\r\n",
                "from sklearn.metrics import mean_squared_error\r\n",
                "\r\n",
                "#connection string\r\n",
                "conn_str = pyodbc.connect('DRIVER={SQL Server}; SERVER=192.168.1.210; DATABASE=TutorialDB;UID=sa;PWD=Password1')\r\n",
                "\r\n",
                "query_str = 'SELECT Year, Month, Day, RentalCount, Weekday, Holiday, Snow FROM dbo.rental_data'\r\n",
                "\r\n",
                "df = pandas.read_sql(sql=query_str, con=conn_str)\r\n",
                "\r\n",
                "print(\"Data Frame:\", df)\r\n",
                "\r\n",
                "columns = df.columns.tolist()\r\n",
                "\r\n",
                "columns = [c for c in columns if c not in [\"Year\"]]"
            ],
            "metadata": {
                "azdata_cell_guid": "72550335-6414-48b4-8e55-5682782a212d",
                "language": "python"
            },
            "outputs": [
                {
                    "name": "stdout",
                    "text": "Data Frame:      Year  Month  Day  RentalCount  Weekday  Holiday  Snow\n0    2014      1   20          445        2        1     0\n1    2014      2   13           40        5        0     0\n2    2013      3   10          456        1        0     0\n3    2014      3   31           38        2        0     0\n4    2014      4   24           23        5        0     0\n..    ...    ...  ...          ...      ...      ...   ...\n448  2013      2   19           57        3        0     1\n449  2015      3   18           26        4        0     0\n450  2015      3   24           29        3        0     1\n451  2014      3   26           50        4        0     1\n452  2015     12    6          377        1        0     1\n\n[453 rows x 7 columns]\n",
                    "output_type": "stream"
                },
                {
                    "name": "stderr",
                    "text": "C:\\Users\\Administrator\\azuredatastudio-python\\lib\\site-packages\\pandas\\io\\sql.py:761: UserWarning: pandas only support SQLAlchemy connectable(engine/connection) ordatabase string URI or sqlite3 DBAPI2 connectionother DBAPI2 objects are not tested, please consider using SQLAlchemy\n  warnings.warn(\n",
                    "output_type": "stream"
                }
            ],
            "execution_count": 3
        },
        {
            "cell_type": "code",
            "source": [
                "#store the variable to predict on\r\n",
                "target = \"RentalCount\"\r\n",
                "\r\n",
                "#Generate the training set\r\n",
                "train = df.sample(frac=0.8, random_state=1)\r\n",
                "\r\n",
                "\r\n",
                "#selecting anything not in the training set and put it in the testing set.\r\n",
                "test = df.loc[~df.index.isin(train.index)]\r\n",
                "\r\n",
                "#printing the shapes of both sets\r\n",
                "print(\"Training set shape:\", train.shape)\r\n",
                "print(\"Testing set shape\", test.shape)\r\n",
                "\r\n",
                "#Initializing the model class\r\n",
                "lin_model = LinearRegression()\r\n",
                "\r\n",
                "#Fit the model to the training data.\r\n",
                "lin_model.fit(train[columns], train[target])"
            ],
            "metadata": {
                "azdata_cell_guid": "010e0db8-8264-4159-a700-65d21b620aa4",
                "language": "python"
            },
            "outputs": [
                {
                    "name": "stdout",
                    "text": "Training set shape: (362, 7)\nTesting set shape (91, 7)\n",
                    "output_type": "stream"
                },
                {
                    "data": {
                        "text/plain": "LinearRegression()",
                        "text/html": "<style>#sk-container-id-1 {color: black;background-color: white;}#sk-container-id-1 pre{padding: 0;}#sk-container-id-1 div.sk-toggleable {background-color: white;}#sk-container-id-1 label.sk-toggleable__label {cursor: pointer;display: block;width: 100%;margin-bottom: 0;padding: 0.3em;box-sizing: border-box;text-align: center;}#sk-container-id-1 label.sk-toggleable__label-arrow:before {content: \"▸\";float: left;margin-right: 0.25em;color: #696969;}#sk-container-id-1 label.sk-toggleable__label-arrow:hover:before {color: black;}#sk-container-id-1 div.sk-estimator:hover label.sk-toggleable__label-arrow:before {color: black;}#sk-container-id-1 div.sk-toggleable__content {max-height: 0;max-width: 0;overflow: hidden;text-align: left;background-color: #f0f8ff;}#sk-container-id-1 div.sk-toggleable__content pre {margin: 0.2em;color: black;border-radius: 0.25em;background-color: #f0f8ff;}#sk-container-id-1 input.sk-toggleable__control:checked~div.sk-toggleable__content {max-height: 200px;max-width: 100%;overflow: auto;}#sk-container-id-1 input.sk-toggleable__control:checked~label.sk-toggleable__label-arrow:before {content: \"▾\";}#sk-container-id-1 div.sk-estimator input.sk-toggleable__control:checked~label.sk-toggleable__label {background-color: #d4ebff;}#sk-container-id-1 div.sk-label input.sk-toggleable__control:checked~label.sk-toggleable__label {background-color: #d4ebff;}#sk-container-id-1 input.sk-hidden--visually {border: 0;clip: rect(1px 1px 1px 1px);clip: rect(1px, 1px, 1px, 1px);height: 1px;margin: -1px;overflow: hidden;padding: 0;position: absolute;width: 1px;}#sk-container-id-1 div.sk-estimator {font-family: monospace;background-color: #f0f8ff;border: 1px dotted black;border-radius: 0.25em;box-sizing: border-box;margin-bottom: 0.5em;}#sk-container-id-1 div.sk-estimator:hover {background-color: #d4ebff;}#sk-container-id-1 div.sk-parallel-item::after {content: \"\";width: 100%;border-bottom: 1px solid gray;flex-grow: 1;}#sk-container-id-1 div.sk-label:hover label.sk-toggleable__label {background-color: #d4ebff;}#sk-container-id-1 div.sk-serial::before {content: \"\";position: absolute;border-left: 1px solid gray;box-sizing: border-box;top: 0;bottom: 0;left: 50%;z-index: 0;}#sk-container-id-1 div.sk-serial {display: flex;flex-direction: column;align-items: center;background-color: white;padding-right: 0.2em;padding-left: 0.2em;position: relative;}#sk-container-id-1 div.sk-item {position: relative;z-index: 1;}#sk-container-id-1 div.sk-parallel {display: flex;align-items: stretch;justify-content: center;background-color: white;position: relative;}#sk-container-id-1 div.sk-item::before, #sk-container-id-1 div.sk-parallel-item::before {content: \"\";position: absolute;border-left: 1px solid gray;box-sizing: border-box;top: 0;bottom: 0;left: 50%;z-index: -1;}#sk-container-id-1 div.sk-parallel-item {display: flex;flex-direction: column;z-index: 1;position: relative;background-color: white;}#sk-container-id-1 div.sk-parallel-item:first-child::after {align-self: flex-end;width: 50%;}#sk-container-id-1 div.sk-parallel-item:last-child::after {align-self: flex-start;width: 50%;}#sk-container-id-1 div.sk-parallel-item:only-child::after {width: 0;}#sk-container-id-1 div.sk-dashed-wrapped {border: 1px dashed gray;margin: 0 0.4em 0.5em 0.4em;box-sizing: border-box;padding-bottom: 0.4em;background-color: white;}#sk-container-id-1 div.sk-label label {font-family: monospace;font-weight: bold;display: inline-block;line-height: 1.2em;}#sk-container-id-1 div.sk-label-container {text-align: center;}#sk-container-id-1 div.sk-container {/* jupyter's `normalize.less` sets `[hidden] { display: none; }` but bootstrap.min.css set `[hidden] { display: none !important; }` so we also need the `!important` here to be able to override the default hidden behavior on the sphinx rendered scikit-learn.org. See: https://github.com/scikit-learn/scikit-learn/issues/21755 */display: inline-block !important;position: relative;}#sk-container-id-1 div.sk-text-repr-fallback {display: none;}</style><div id=\"sk-container-id-1\" class=\"sk-top-container\"><div class=\"sk-text-repr-fallback\"><pre>LinearRegression()</pre><b>In a Jupyter environment, please rerun this cell to show the HTML representation or trust the notebook. <br />On GitHub, the HTML representation is unable to render, please try loading this page with nbviewer.org.</b></div><div class=\"sk-container\" hidden><div class=\"sk-item\"><div class=\"sk-estimator sk-toggleable\"><input class=\"sk-toggleable__control sk-hidden--visually\" id=\"sk-estimator-id-1\" type=\"checkbox\" checked><label for=\"sk-estimator-id-1\" class=\"sk-toggleable__label sk-toggleable__label-arrow\">LinearRegression</label><div class=\"sk-toggleable__content\"><pre>LinearRegression()</pre></div></div></div></div></div>"
                    },
                    "metadata": {},
                    "execution_count": 4,
                    "output_type": "execute_result"
                }
            ],
            "execution_count": 4
        },
        {
            "cell_type": "code",
            "source": [
                "#Generating my predictions for the test set.\r\n",
                "lin_predictions = lin_model.predict(test[columns])\r\n",
                "print(\"Predictions:\", lin_predictions)\r\n",
                "\r\n",
                "\r\n",
                "#Computing error between test predictions and the actual values\r\n",
                "lin_mserr = mean_squared_error(lin_predictions, test[columns])\r\n",
                "print(\"Computed error:\", lin_mserr)"
            ],
            "metadata": {
                "azdata_cell_guid": "0be6bd36-729f-47c8-b133-4d4a68b06a3c",
                "language": "python"
            },
            "outputs": [],
            "execution_count": 5
        }
    ]
}